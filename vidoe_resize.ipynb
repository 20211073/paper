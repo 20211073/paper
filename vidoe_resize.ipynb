{
 "cells": [
  {
   "cell_type": "code",
   "execution_count": 2,
   "metadata": {},
   "outputs": [
    {
     "name": "stdout",
     "output_type": "stream",
     "text": [
      "C:/Users/glad/Desktop/230213_long_data/GH010267.MP4\n"
     ]
    },
    {
     "ename": "KeyboardInterrupt",
     "evalue": "",
     "output_type": "error",
     "traceback": [
      "\u001b[1;31m---------------------------------------------------------------------------\u001b[0m",
      "\u001b[1;31mKeyboardInterrupt\u001b[0m                         Traceback (most recent call last)",
      "Cell \u001b[1;32mIn [2], line 16\u001b[0m\n\u001b[0;32m     13\u001b[0m out \u001b[39m=\u001b[39m cv2\u001b[39m.\u001b[39mVideoWriter(i,fourcc, \u001b[39m30\u001b[39m, (\u001b[39m1920\u001b[39m,\u001b[39m1080\u001b[39m))\n\u001b[0;32m     15\u001b[0m \u001b[39mwhile\u001b[39;00m \u001b[39mTrue\u001b[39;00m:\n\u001b[1;32m---> 16\u001b[0m     ret, frame \u001b[39m=\u001b[39m cap\u001b[39m.\u001b[39;49mread()\n\u001b[0;32m     17\u001b[0m     \u001b[39m#print(ret)\u001b[39;00m\n\u001b[0;32m     18\u001b[0m     \u001b[39mif\u001b[39;00m ret \u001b[39m==\u001b[39m \u001b[39mTrue\u001b[39;00m:\n",
      "\u001b[1;31mKeyboardInterrupt\u001b[0m: "
     ]
    }
   ],
   "source": [
    "import cv2\n",
    "import numpy as np\n",
    "import os\n",
    "list = os.listdir('C:/Users/glad/Desktop/230213_long_data/')\n",
    "root = 'C:/Users/glad/Desktop/230213_long_data/'\n",
    "\n",
    "for i in list:\n",
    "    count = 0\n",
    "    print(root+i)\n",
    "    cap = cv2.VideoCapture(root+i)\n",
    "    \n",
    "    fourcc = cv2.VideoWriter_fourcc(*'XVID')\n",
    "    out = cv2.VideoWriter(i,fourcc, 30, (1920,1080))\n",
    "    \n",
    "    while True:\n",
    "        ret, frame = cap.read()\n",
    "        #print(ret)\n",
    "        if ret == True:\n",
    "            b = cv2.resize(frame,(1920,1080),fx=0,fy=0, interpolation = cv2.INTER_CUBIC)\n",
    "            out.write(b)\n",
    "            count = count+1\n",
    "        elif ret == False:\n",
    "            if count < 20:\n",
    "                pass\n",
    "            else:\n",
    "                break\n",
    "        \n",
    "\n",
    "        \n",
    "    cap.release()\n",
    "    out.release()\n",
    "    cv2.destroyAllWindows()\n",
    "print(count)"
   ]
  }
 ],
 "metadata": {
  "kernelspec": {
   "display_name": "Python 3",
   "language": "python",
   "name": "python3"
  },
  "language_info": {
   "codemirror_mode": {
    "name": "ipython",
    "version": 3
   },
   "file_extension": ".py",
   "mimetype": "text/x-python",
   "name": "python",
   "nbconvert_exporter": "python",
   "pygments_lexer": "ipython3",
   "version": "3.10.8"
  },
  "orig_nbformat": 4,
  "vscode": {
   "interpreter": {
    "hash": "3fb7f2e54eb8da06a6e8f27daf79d372cf1de1e35d98dee77e1609c937b57e84"
   }
  }
 },
 "nbformat": 4,
 "nbformat_minor": 2
}
